{
 "cells": [
  {
   "cell_type": "code",
   "execution_count": 2,
   "metadata": {},
   "outputs": [],
   "source": [
    "import pandas as pd"
   ]
  },
  {
   "cell_type": "code",
   "execution_count": 19,
   "metadata": {},
   "outputs": [],
   "source": [
    "df = pd.read_csv('nacional/articles-257515_doc_csv.csv', sep=';')\n",
    "df = df.sort_values(by=['Partida','Capítulo','Programa','Subtítulo','Item','Asignación'])\n",
    "#df = df[(df['Partida']==1)&(df['Capítulo']==1)&(df['Programa']==1)]\n",
    "PCP = df[['Partida','Capítulo','Programa']].drop_duplicates()\n",
    "df_total = pd.DataFrame()\n",
    "for i, row in PCP.iterrows():\n",
    "    df_temp = df[(df['Partida']==row['Partida'])&(df['Capítulo']==row['Capítulo'])&(df['Programa']==row['Programa'])]\n",
    "    subtitulos = df_temp.Subtítulo.unique()\n",
    "    df_prog = pd.DataFrame()\n",
    "    for subt in subtitulos:\n",
    "        df_subt = df_temp[df_temp['Subtítulo']==subt]\n",
    "        if len(df_subt) > 1:\n",
    "            df_subt = df_subt[df_subt['Item']!=0]\n",
    "            items = df_subt.Item.unique()\n",
    "            df_item_to = pd.DataFrame()\n",
    "            for item in items:\n",
    "                df_item = df_subt[df_subt['Item']==item]\n",
    "                if len(df_item) > 1:\n",
    "                    df_item = df_item[df_item['Asignación']!=0]\n",
    "                    \n",
    "                df_item_to = pd.concat([df_item, df_item_to], axis=0)\n",
    "\n",
    "            df_prog = pd.concat([df_item_to, df_prog], axis=0)\n",
    "        else:\n",
    "            df_prog = pd.concat([df_subt, df_prog], axis=0)\n",
    "\n",
    "    df_total = pd.concat([df_prog, df_total], axis=0)\n",
    "\n",
    "df_total = df_total.sort_values(by=['Partida','Capítulo','Programa','Subtítulo','Item','Asignación'])\n"
   ]
  },
  {
   "cell_type": "code",
   "execution_count": 18,
   "metadata": {},
   "outputs": [],
   "source": [
    "df_total.to_excel('output/consolidado2022.xlsx')"
   ]
  }
 ],
 "metadata": {
  "kernelspec": {
   "display_name": "Python 3.7.13 ('base')",
   "language": "python",
   "name": "python3"
  },
  "language_info": {
   "codemirror_mode": {
    "name": "ipython",
    "version": 3
   },
   "file_extension": ".py",
   "mimetype": "text/x-python",
   "name": "python",
   "nbconvert_exporter": "python",
   "pygments_lexer": "ipython3",
   "version": "3.7.13"
  },
  "orig_nbformat": 4,
  "vscode": {
   "interpreter": {
    "hash": "8b48bd831c07327b37dcfa92977059b4d5183196e31c3b5c3f2adc1315c6bb90"
   }
  }
 },
 "nbformat": 4,
 "nbformat_minor": 2
}
